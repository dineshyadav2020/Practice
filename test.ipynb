{
  "nbformat": 4,
  "nbformat_minor": 0,
  "metadata": {
    "colab": {
      "name": "test.ipynb",
      "provenance": []
    },
    "kernelspec": {
      "name": "python3",
      "display_name": "Python 3"
    }
  },
  "cells": [
    {
      "cell_type": "markdown",
      "metadata": {
        "id": "DwhVnKKDfhld",
        "colab_type": "text"
      },
      "source": [
        "Importing some Python modules/libraries"
      ]
    },
    {
      "cell_type": "code",
      "metadata": {
        "id": "Bf5uUyRKPwP_",
        "colab_type": "code",
        "colab": {}
      },
      "source": [
        "import numpy as np\n",
        "import matplotlib.pyplot as plt"
      ],
      "execution_count": 0,
      "outputs": []
    },
    {
      "cell_type": "markdown",
      "metadata": {
        "id": "EFvcbo4Lfrvq",
        "colab_type": "text"
      },
      "source": [
        "Running my first code"
      ]
    },
    {
      "cell_type": "code",
      "metadata": {
        "id": "OrfjScVeeZ-G",
        "colab_type": "code",
        "colab": {
          "base_uri": "https://localhost:8080/",
          "height": 34
        },
        "outputId": "661c53b0-4e81-4d88-ee17-ba5b590f2e17"
      },
      "source": [
        "x = 49\n",
        "np.sqrt(x)*np.abs(-3)"
      ],
      "execution_count": 38,
      "outputs": [
        {
          "output_type": "execute_result",
          "data": {
            "text/plain": [
              "21.0"
            ]
          },
          "metadata": {
            "tags": []
          },
          "execution_count": 38
        }
      ]
    },
    {
      "cell_type": "markdown",
      "metadata": {
        "id": "1NMcqN4FiSDG",
        "colab_type": "text"
      },
      "source": [
        "Trigonometry"
      ]
    },
    {
      "cell_type": "code",
      "metadata": {
        "id": "iIp1rXNberE-",
        "colab_type": "code",
        "colab": {}
      },
      "source": [
        "x1 = -0.5*np.pi\n",
        "\n",
        "y1 = np.sin(x)"
      ],
      "execution_count": 0,
      "outputs": []
    },
    {
      "cell_type": "code",
      "metadata": {
        "id": "xDKF0RgwgGoj",
        "colab_type": "code",
        "colab": {
          "base_uri": "https://localhost:8080/",
          "height": 34
        },
        "outputId": "8b7ed31d-04aa-4260-d9bd-22554493cdb5"
      },
      "source": [
        "print(x1, y1)"
      ],
      "execution_count": 40,
      "outputs": [
        {
          "output_type": "stream",
          "text": [
            "-1.5707963267948966 -0.9537526527594719\n"
          ],
          "name": "stdout"
        }
      ]
    },
    {
      "cell_type": "code",
      "metadata": {
        "id": "l4MRqmi8gY14",
        "colab_type": "code",
        "colab": {
          "base_uri": "https://localhost:8080/",
          "height": 34
        },
        "outputId": "31b05564-b38d-4cab-d706-4dad74edeeeb"
      },
      "source": [
        "np.linspace(-20,20,9)"
      ],
      "execution_count": 41,
      "outputs": [
        {
          "output_type": "execute_result",
          "data": {
            "text/plain": [
              "array([-20., -15., -10.,  -5.,   0.,   5.,  10.,  15.,  20.])"
            ]
          },
          "metadata": {
            "tags": []
          },
          "execution_count": 41
        }
      ]
    },
    {
      "cell_type": "code",
      "metadata": {
        "id": "sB86ZrHLgmY0",
        "colab_type": "code",
        "colab": {
          "base_uri": "https://localhost:8080/",
          "height": 34
        },
        "outputId": "2697d9d4-0d05-4f57-b0f7-78cb6721e928"
      },
      "source": [
        "np.arange(-20,20,5)"
      ],
      "execution_count": 42,
      "outputs": [
        {
          "output_type": "execute_result",
          "data": {
            "text/plain": [
              "array([-20, -15, -10,  -5,   0,   5,  10,  15])"
            ]
          },
          "metadata": {
            "tags": []
          },
          "execution_count": 42
        }
      ]
    },
    {
      "cell_type": "code",
      "metadata": {
        "id": "gM1hl39kg6iL",
        "colab_type": "code",
        "colab": {}
      },
      "source": [
        "x = np.linspace(-2*np.pi,2*np.pi,100)"
      ],
      "execution_count": 0,
      "outputs": []
    },
    {
      "cell_type": "code",
      "metadata": {
        "id": "MbEe0l2RhHGv",
        "colab_type": "code",
        "colab": {}
      },
      "source": [
        "y = np.sin(x)\n",
        "z = np.cos(x)"
      ],
      "execution_count": 0,
      "outputs": []
    },
    {
      "cell_type": "code",
      "metadata": {
        "id": "5CuiG6PzhQQH",
        "colab_type": "code",
        "colab": {
          "base_uri": "https://localhost:8080/",
          "height": 296
        },
        "outputId": "45094229-8ca8-4baa-a62a-b8c89928b577"
      },
      "source": [
        "plt.plot(x,y)\n",
        "plt.plot(x,z)\n",
        "plt.xlabel('X')\n",
        "#plt.ylabel('$\\sin(x)$')\n",
        "plt.ylabel('sin(x)')"
      ],
      "execution_count": 47,
      "outputs": [
        {
          "output_type": "execute_result",
          "data": {
            "text/plain": [
              "Text(0, 0.5, 'sin(x)')"
            ]
          },
          "metadata": {
            "tags": []
          },
          "execution_count": 47
        },
        {
          "output_type": "display_data",
          "data": {
            "image/png": "[encoded data removed]",
            "text/plain": [
              "<Figure size 432x288 with 1 Axes>"
            ]
          },
          "metadata": {
            "tags": [],
            "needs_background": "light"
          }
        }
      ]
    },
    {
      "cell_type": "code",
      "metadata": {
        "id": "jk0Y0WhOhWRR",
        "colab_type": "code",
        "colab": {}
      },
      "source": [
        ""
      ],
      "execution_count": 0,
      "outputs": []
    },
    {
      "cell_type": "markdown",
      "metadata": {
        "id": "8snHJvhthpmr",
        "colab_type": "text"
      },
      "source": [
        "Parabola"
      ]
    },
    {
      "cell_type": "code",
      "metadata": {
        "id": "6ZcOdIUHhrZ0",
        "colab_type": "code",
        "colab": {
          "base_uri": "https://localhost:8080/",
          "height": 282
        },
        "outputId": "ff3f52c7-d1cd-476d-cbd2-d87e9d76621e"
      },
      "source": [
        "x = np.linspace(0,100,1000)\n",
        "y = np.sqrt(4*1*x)\n",
        "\n",
        "plt.plot(x,y)\n",
        "plt.plot(x,-y)"
      ],
      "execution_count": 34,
      "outputs": [
        {
          "output_type": "execute_result",
          "data": {
            "text/plain": [
              "[<matplotlib.lines.Line2D at 0x7f2994089c50>]"
            ]
          },
          "metadata": {
            "tags": []
          },
          "execution_count": 34
        },
        {
          "output_type": "display_data",
          "data": {
            "image/png": "[encoded data removed]",
            "text/plain": [
              "<Figure size 432x288 with 1 Axes>"
            ]
          },
          "metadata": {
            "tags": [],
            "needs_background": "light"
          }
        }
      ]
    },
    {
      "cell_type": "code",
      "metadata": {
        "id": "GGjj0L9Lh7q9",
        "colab_type": "code",
        "colab": {}
      },
      "source": [
        ""
      ],
      "execution_count": 0,
      "outputs": []
    }
  ]
}