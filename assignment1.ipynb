{
  "nbformat": 4,
  "nbformat_minor": 0,
  "metadata": {
    "colab": {
      "name": "assignment1.ipynb",
      "provenance": []
    },
    "kernelspec": {
      "name": "python3",
      "display_name": "Python 3"
    }
  },
  "cells": [
    {
      "cell_type": "markdown",
      "metadata": {
        "id": "AgFlD2la8pJY",
        "colab_type": "text"
      },
      "source": [
        "### Assignments are taken from \n",
        "\n",
        "David Pine's book.  "
      ]
    },
    {
      "cell_type": "markdown",
      "metadata": {
        "id": "RbyONaUw8vny",
        "colab_type": "text"
      },
      "source": [
        "**A. Chapter 3.6 Problem 1.**\n",
        "\n",
        "Create an array of 9 evenly spaced numbers going from 0 to 29 (inclusive) and give it the variable name r. \n",
        "\n",
        "Find the square of each element of the array (as simply as possible). \n",
        "\n",
        "Find twice the value of each element of the array in two different ways: \n",
        "(i) using addition and (ii) using multiplication. \n",
        "\n",
        "Print out the array r and each output requested above."
      ]
    },
    {
      "cell_type": "code",
      "metadata": {
        "id": "Z-mHjP7m8zZU",
        "colab_type": "code",
        "colab": {}
      },
      "source": [
        "Your code..............."
      ],
      "execution_count": 0,
      "outputs": []
    },
    {
      "cell_type": "markdown",
      "metadata": {
        "id": "PpeZWt0_9BZN",
        "colab_type": "text"
      },
      "source": [
        "**B. Basic calculus**"
      ]
    },
    {
      "cell_type": "markdown",
      "metadata": {
        "id": "eJXjfwpw9Sl6",
        "colab_type": "text"
      },
      "source": [
        "Use *arange* function from NumPy to create $x$ ranging from $-2\\pi$ to $2\\pi$.\n",
        "\n",
        "1. Calculate various trigonometric function such as $\\sin(x), \\cos(x), \\tan(x)$. Let call these functions as y. \n",
        "\n",
        "2. Plot $x$ vs $y$, i.e., one plot for $x$ vs $\\sin(x)$ etc.\n",
        "\n",
        "3. Numerically find derivative of $y$ wrt $x$. That is for $y=\\sin(x)$ answer is $\\cos(x)$ and so on so forth.\n",
        "\n",
        "4. Finally plot, numerically calculated derivative against theoretical derivative. They should look similar, right? Demonstrate."
      ]
    }
  ]
}