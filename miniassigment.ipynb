{
 "cells": [
  {
   "cell_type": "markdown",
   "metadata": {},
   "source": [
    "# Mini Assigment:"
   ]
  },
  {
   "cell_type": "markdown",
   "metadata": {},
   "source": [
    "Create a DNA string of 10,000 characters and count the following: A,T,G,C, all combination\n",
    "of two characters, all combinations of three characters. \n",
    "    "
   ]
  },
  {
   "cell_type": "code",
   "execution_count": 5,
   "metadata": {},
   "outputs": [],
   "source": [
    "import random as rn \n",
    "d = ['A','T','G','C']\n",
    "D = [rn.choice(d) for i in range(10000)]\n",
    "DNA =''.join(D)"
   ]
  },
  {
   "cell_type": "code",
   "execution_count": 6,
   "metadata": {},
   "outputs": [
    {
     "name": "stdout",
     "output_type": "stream",
     "text": [
      "{'A': 2451, 'T': 2478, 'G': 2545, 'C': 2526}\n"
     ]
    }
   ],
   "source": [
    "count = {i: DNA.count(i) for i in D}\n",
    "print(count)"
   ]
  },
  {
   "cell_type": "code",
   "execution_count": 8,
   "metadata": {},
   "outputs": [
    {
     "name": "stdout",
     "output_type": "stream",
     "text": [
      "{'AT': 607, 'AG': 625, 'AC': 625, 'TG': 651, 'TC': 620, 'GC': 646}\n"
     ]
    }
   ],
   "source": [
    "from itertools import combinations\n",
    "comb = list(combinations(d,2))\n",
    "join = [''.join(tups) for tups in comb]\n",
    "count = {i: DNA.count(i) for i in join}\n",
    "print(count)"
   ]
  },
  {
   "cell_type": "code",
   "execution_count": 9,
   "metadata": {},
   "outputs": [
    {
     "name": "stdout",
     "output_type": "stream",
     "text": [
      "{'ATG': 155, 'ATC': 154, 'AGC': 165, 'TGC': 171}\n"
     ]
    }
   ],
   "source": [
    "from itertools import combinations\n",
    "comb = list(combinations(d,3))\n",
    "join = [''.join(tups) for tups in comb]\n",
    "count = {i: DNA.count(i) for i in join}\n",
    "print(count)"
   ]
  },
  {
   "cell_type": "code",
   "execution_count": null,
   "metadata": {},
   "outputs": [],
   "source": []
  }
 ],
 "metadata": {
  "kernelspec": {
   "display_name": "Python 3",
   "language": "python",
   "name": "python3"
  },
  "language_info": {
   "codemirror_mode": {
    "name": "ipython",
    "version": 3
   },
   "file_extension": ".py",
   "mimetype": "text/x-python",
   "name": "python",
   "nbconvert_exporter": "python",
   "pygments_lexer": "ipython3",
   "version": "3.7.6"
  }
 },
 "nbformat": 4,
 "nbformat_minor": 4
}
