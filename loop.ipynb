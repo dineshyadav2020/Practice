{
 "cells": [
  {
   "cell_type": "markdown",
   "metadata": {},
   "source": [
    "# Loops and Conditions"
   ]
  },
  {
   "cell_type": "markdown",
   "metadata": {},
   "source": [
    "loops provides the methods of iteration while condition allows or blocks the code execution when specified condition\n",
    "is meet."
   ]
  },
  {
   "cell_type": "markdown",
   "metadata": {},
   "source": [
    "For Loop and while Loop"
   ]
  },
  {
   "cell_type": "code",
   "execution_count": 1,
   "metadata": {},
   "outputs": [
    {
     "name": "stdout",
     "output_type": "stream",
     "text": [
      "apple\n",
      "banana\n",
      "kite\n",
      "cellphone\n"
     ]
    }
   ],
   "source": [
    "L = ['apple', 'banana','kite','cellphone']\n",
    "for item in L:\n",
    "    print(item)"
   ]
  },
  {
   "cell_type": "code",
   "execution_count": 3,
   "metadata": {},
   "outputs": [
    {
     "data": {
      "text/plain": [
       "(range(0, 5), range(5, 100), 4950)"
      ]
     },
     "execution_count": 3,
     "metadata": {},
     "output_type": "execute_result"
    }
   ],
   "source": [
    "range(5), range(5,100), sum(range(100))"
   ]
  },
  {
   "cell_type": "code",
   "execution_count": 7,
   "metadata": {},
   "outputs": [
    {
     "data": {
      "text/plain": [
       "[0, 10, 20, 30, 40, 50, 60, 70, 80, 90]"
      ]
     },
     "execution_count": 7,
     "metadata": {},
     "output_type": "execute_result"
    }
   ],
   "source": [
    "L=[]\n",
    "for k in range(10):\n",
    "    L.append(10*k)\n",
    "L"
   ]
  },
  {
   "cell_type": "code",
   "execution_count": 14,
   "metadata": {},
   "outputs": [
    {
     "name": "stdout",
     "output_type": "stream",
     "text": [
      "{(0, 0): 0, (0, 1): 1, (0, 2): 2, (0, 3): 3, (0, 4): 4, (1, 0): 100, (1, 1): 11, (1, 2): 102, (1, 3): 103, (1, 4): 104, (2, 0): 200, (2, 1): 201, (2, 2): 22, (2, 3): 203, (2, 4): 204, (3, 0): 300, (3, 1): 301, (3, 2): 302, (3, 3): 33, (3, 4): 304, (4, 0): 400, (4, 1): 401, (4, 2): 402, (4, 3): 403, (4, 4): 44}\n"
     ]
    }
   ],
   "source": [
    "D = {}\n",
    "for i in range(5):\n",
    "    for j in range(5):\n",
    "        if i == j :\n",
    "            D.update({(i,j) : 10*i+j})\n",
    "        elif i!=j :\n",
    "            D.update({(i,j): 100*i+j})\n",
    "print(D)"
   ]
  },
  {
   "cell_type": "code",
   "execution_count": 16,
   "metadata": {},
   "outputs": [
    {
     "name": "stdout",
     "output_type": "stream",
     "text": [
      "The 0 th element is: apple\n",
      "The 1 th element is: banana\n",
      "The 2 th element is: kite\n",
      "The 3 th element is: cellphone\n"
     ]
    }
   ],
   "source": [
    "for i, item in enumerate(['apple', 'banana','kite','cellphone']):\n",
    "    print(\"The\",i,\"th element is:\", item)"
   ]
  },
  {
   "cell_type": "code",
   "execution_count": 23,
   "metadata": {},
   "outputs": [
    {
     "name": "stdout",
     "output_type": "stream",
     "text": [
      "[1, 16, 51, 106, 181, 276, 391, 526, 681, 856]\n"
     ]
    }
   ],
   "source": [
    "A=[10*k**2+5*k+1 for k in range(10)]\n",
    "print(A)"
   ]
  },
  {
   "cell_type": "code",
   "execution_count": 27,
   "metadata": {},
   "outputs": [
    {
     "name": "stdout",
     "output_type": "stream",
     "text": [
      "[[1, 11, 41], [6, 16, 46], [11, 21, 51]]\n"
     ]
    }
   ],
   "source": [
    "AA=[[10*x**2+5*y+1 for x in range(3)] for y in range(3)]\n",
    "print(AA)"
   ]
  },
  {
   "cell_type": "code",
   "execution_count": 28,
   "metadata": {},
   "outputs": [
    {
     "name": "stdout",
     "output_type": "stream",
     "text": [
      "The ( 0 , 0 ) th element is:  1\n",
      "The ( 0 , 1 ) th element is:  11\n",
      "The ( 0 , 2 ) th element is:  41\n",
      "The ( 1 , 0 ) th element is:  6\n",
      "The ( 1 , 1 ) th element is:  16\n",
      "The ( 1 , 2 ) th element is:  46\n",
      "The ( 2 , 0 ) th element is:  11\n",
      "The ( 2 , 1 ) th element is:  21\n",
      "The ( 2 , 2 ) th element is:  51\n"
     ]
    }
   ],
   "source": [
    "for i in range(3):\n",
    "    for j in range(3):\n",
    "        print(\"The\", \"(\",i,\",\",j,\")\",\"th element is: \", AA[i][j])"
   ]
  },
  {
   "cell_type": "code",
   "execution_count": 29,
   "metadata": {},
   "outputs": [
    {
     "name": "stdout",
     "output_type": "stream",
     "text": [
      "0 th turn\n",
      "1 th turn\n",
      "2 th turn\n",
      "3 th turn\n",
      "4 th turn\n"
     ]
    }
   ],
   "source": [
    "i=0\n",
    "while i<5:\n",
    "    print( i, \"th turn\")\n",
    "    i = i+1"
   ]
  },
  {
   "cell_type": "code",
   "execution_count": 30,
   "metadata": {},
   "outputs": [
    {
     "name": "stdout",
     "output_type": "stream",
     "text": [
      "0\n",
      "1\n",
      "2\n",
      "3\n"
     ]
    }
   ],
   "source": [
    "for i in range(10):\n",
    "    print(i)\n",
    "    if i == 3:\n",
    "        break"
   ]
  },
  {
   "cell_type": "code",
   "execution_count": 32,
   "metadata": {},
   "outputs": [
    {
     "name": "stdout",
     "output_type": "stream",
     "text": [
      "It is smaller than 8 and greate than 6 | 7.776816896801124\n",
      "It is smaller than 10 and greater than 8 | 8.900894365576073\n",
      "It is smaller than 10 and greater than 8 | 8.303922292796068\n",
      "It is smaller than 2 and greater than 1 | 1.9805026109354515\n",
      "It is smaller than 4 and greater than 2 | 2.642984031672224\n",
      "It is smaller than 4 and greater than 2 | 2.3577860630219387\n",
      "It is smaller than 4 and greater than 2 | 2.707988363790994\n",
      "It is smaller tha 6 and greater than 4 | 4.950782515186212\n",
      "It is smaller tha 6 and greater than 4 | 4.474577783554499\n",
      "It is smaller than 8 and greate than 6 | 6.260661038808822\n"
     ]
    }
   ],
   "source": [
    "import random as random\n",
    "for i in range(10):\n",
    "    r = random.uniform(1,10)\n",
    "    if r<2 and r>0:\n",
    "        print(\"It is smaller than 2 and greater than 1\",\"|\",r)\n",
    "    elif r<4 and r>2:\n",
    "        print(\"It is smaller than 4 and greater than 2\",\"|\",r)\n",
    "    elif r<6 and r>4:\n",
    "        print(\"It is smaller tha 6 and greater than 4\",\"|\",r)\n",
    "    elif r<8 and r>6:\n",
    "        print(\"It is smaller than 8 and greate than 6\",\"|\",r)\n",
    "    elif r<10 and r>8:\n",
    "        print(\"It is smaller than 10 and greater than 8\",\"|\",r)\n",
    "    "
   ]
  },
  {
   "cell_type": "code",
   "execution_count": 33,
   "metadata": {},
   "outputs": [
    {
     "data": {
      "text/plain": [
       "500500"
      ]
     },
     "execution_count": 33,
     "metadata": {},
     "output_type": "execute_result"
    }
   ],
   "source": [
    "s = 0\n",
    "for i in range(1000+1):\n",
    "    s = s+i\n",
    "s"
   ]
  },
  {
   "cell_type": "code",
   "execution_count": 34,
   "metadata": {},
   "outputs": [
    {
     "data": {
      "text/plain": [
       "(250500, 250500)"
      ]
     },
     "execution_count": 34,
     "metadata": {},
     "output_type": "execute_result"
    }
   ],
   "source": [
    "s = 0\n",
    "LE = []\n",
    "for i in range(1001):\n",
    "    if i%2 ==0:\n",
    "        LE.append(i)\n",
    "        s= s+i\n",
    "s, sum(LE)"
   ]
  },
  {
   "cell_type": "code",
   "execution_count": null,
   "metadata": {},
   "outputs": [],
   "source": []
  }
 ],
 "metadata": {
  "kernelspec": {
   "display_name": "Python 3",
   "language": "python",
   "name": "python3"
  },
  "language_info": {
   "codemirror_mode": {
    "name": "ipython",
    "version": 3
   },
   "file_extension": ".py",
   "mimetype": "text/x-python",
   "name": "python",
   "nbconvert_exporter": "python",
   "pygments_lexer": "ipython3",
   "version": "3.7.6"
  }
 },
 "nbformat": 4,
 "nbformat_minor": 4
}
